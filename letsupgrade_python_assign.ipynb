{
  "nbformat": 4,
  "nbformat_minor": 0,
  "metadata": {
    "colab": {
      "provenance": [],
      "authorship_tag": "ABX9TyOYsIYyVsTm8fAVyW800gJx",
      "include_colab_link": true
    },
    "kernelspec": {
      "name": "python3",
      "display_name": "Python 3"
    },
    "language_info": {
      "name": "python"
    }
  },
  "cells": [
    {
      "cell_type": "markdown",
      "metadata": {
        "id": "view-in-github",
        "colab_type": "text"
      },
      "source": [
        "<a href=\"https://colab.research.google.com/github/satyanarayan264/CourseraFrontend/blob/gh-pages/letsupgrade_python_assign.ipynb\" target=\"_parent\"><img src=\"https://colab.research.google.com/assets/colab-badge.svg\" alt=\"Open In Colab\"/></a>"
      ]
    },
    {
      "cell_type": "code",
      "execution_count": null,
      "metadata": {
        "id": "GzBK4NkiuUtp"
      },
      "outputs": [],
      "source": []
    },
    {
      "cell_type": "markdown",
      "source": [
        "*args - Non-Keyword Arguments\n",
        "When we want to pass arguments to a function, where we are not sure about argument nos. we can use the *args as argument\n",
        "\n",
        "With *args, any number of extra arguments can be tacked on to your current formal parameters (including zero extra arguments)\n",
        "For example, we want to make a multiply function that takes any number of arguments and is able to multiply them all together. It can be done using *args.\n"
      ],
      "metadata": {
        "id": "piW6a0i_uXcz"
      }
    },
    {
      "cell_type": "code",
      "source": [
        "def multi_item(*args):\n",
        "  for a in args:\n",
        "    print (a)\n",
        "multi_item(1,3,'satya')"
      ],
      "metadata": {
        "colab": {
          "base_uri": "https://localhost:8080/"
        },
        "id": "J7QUcNzuu60N",
        "outputId": "c0f0835c-d21c-435d-a875-3f32384bae07"
      },
      "execution_count": 1,
      "outputs": [
        {
          "output_type": "stream",
          "name": "stdout",
          "text": [
            "1\n",
            "3\n",
            "satya\n"
          ]
        }
      ]
    },
    {
      "cell_type": "markdown",
      "source": [
        "**kwargs (Keyword Arguments)\n"
      ],
      "metadata": {
        "id": "MG3lkWtrwknr"
      }
    }
  ]
}