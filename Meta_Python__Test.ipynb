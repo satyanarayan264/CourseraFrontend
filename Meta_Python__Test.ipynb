{
  "nbformat": 4,
  "nbformat_minor": 0,
  "metadata": {
    "colab": {
      "provenance": [],
      "authorship_tag": "ABX9TyNjVLCSBGHDUqLqQ4935QBp",
      "include_colab_link": true
    },
    "kernelspec": {
      "name": "python3",
      "display_name": "Python 3"
    },
    "language_info": {
      "name": "python"
    }
  },
  "cells": [
    {
      "cell_type": "markdown",
      "metadata": {
        "id": "view-in-github",
        "colab_type": "text"
      },
      "source": [
        "<a href=\"https://colab.research.google.com/github/satyanarayan264/CourseraFrontend/blob/gh-pages/Meta_Python__Test.ipynb\" target=\"_parent\"><img src=\"https://colab.research.google.com/assets/colab-badge.svg\" alt=\"Open In Colab\"/></a>"
      ]
    },
    {
      "cell_type": "code",
      "execution_count": 8,
      "metadata": {
        "id": "mnaMnB-CjBwi",
        "colab": {
          "base_uri": "https://localhost:8080/"
        },
        "outputId": "d16a10e2-d658-4b22-f3b4-4168f4d573a6"
      },
      "outputs": [
        {
          "output_type": "stream",
          "name": "stdout",
          "text": [
            "Who wrote this?\n",
            "Author-Book\n",
            "Sun Tzu wrote the book:The Art of War\n"
          ]
        }
      ],
      "source": [
        "# Define class MyFirstClass\n",
        "class MyFirstClass:\n",
        "  print(\"Who wrote this?\")\n",
        "  # Define string variable called index\n",
        "  index = \"Author-Book\"\n",
        "    # Define function hand_list()\n",
        "  def hand_list(self,philosopher,book):\n",
        "    print(self.index)\n",
        "    # variable + “ wrote the book: ” + variable\n",
        "    print(philosopher + \" wrote the book:\" + book);\n",
        "        \n",
        "whodunnit = MyFirstClass();\n",
        "# Call function handlist()\n",
        "whodunnit.hand_list(\"Sun Tzu\",\"The Art of War\")"
      ]
    }
  ]
}